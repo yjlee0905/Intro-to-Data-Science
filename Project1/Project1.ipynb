{
 "cells": [
  {
   "cell_type": "code",
   "execution_count": 1,
   "metadata": {},
   "outputs": [],
   "source": [
    "import numpy as np\n",
    "import pandas as pd\n",
    "from scipy import stats"
   ]
  },
  {
   "cell_type": "code",
   "execution_count": 2,
   "metadata": {},
   "outputs": [
    {
     "name": "stdout",
     "output_type": "stream",
     "text": [
      "(1097, 477)\n"
     ]
    }
   ],
   "source": [
    "data = np.genfromtxt('/Users/yjeonlee/Desktop/[DS-GA-1001]Intro to Data Science/Project1/movieReplicationSet.csv',  delimiter = ',',  skip_header = 1)\n",
    "print(data.shape)"
   ]
  },
  {
   "cell_type": "code",
   "execution_count": 3,
   "metadata": {},
   "outputs": [
    {
     "name": "stdout",
     "output_type": "stream",
     "text": [
      "(477, 1097)\n",
      "median:  197.5\n",
      "9.929258851707232e-35\n"
     ]
    }
   ],
   "source": [
    "# 1\n",
    "transposed_data = data.T # transpose and make one row for each movie\n",
    "print(transposed_data.shape)\n",
    "\n",
    "ratings = transposed_data[:400]\n",
    "colNum = data.shape\n",
    "\n",
    "popularity = []\n",
    "for movie in ratings:\n",
    "    popularity.append(np.isfinite(movie).sum())\n",
    "\n",
    "median = np.median(np.array(popularity))\n",
    "print('median: ', median)\n",
    "\n",
    "low = []\n",
    "high = []\n",
    "for movie in ratings:\n",
    "    if np.isfinite(movie).sum() < median:\n",
    "        low.append(movie)\n",
    "    else:\n",
    "        high.append(movie)\n",
    "\n",
    "low_medians = []\n",
    "for movie in low:\n",
    "    low_medians.append(np.nanmedian(movie))\n",
    "\n",
    "high_medians = []\n",
    "for movie in high:\n",
    "    high_medians.append(np.nanmedian(movie))\n",
    "    \n",
    "u1,p1 = stats.mannwhitneyu(high_medians, low_medians, alternative = 'greater')\n",
    "print(p1)"
   ]
  },
  {
   "cell_type": "code",
   "execution_count": 46,
   "metadata": {},
   "outputs": [
    {
     "name": "stdout",
     "output_type": "stream",
     "text": [
      "400\n",
      "median:  1999.0\n",
      "(1097, 400)\n",
      "0.21113405794975193\n"
     ]
    }
   ],
   "source": [
    "# 2\n",
    "# data_with_name = np.genfromtxt('/Users/yjeonlee/Desktop/[DS-GA-1001]Intro to Data Science/Project1/movieReplicationSet.csv', delimiter = ',', names = True)\n",
    "# movie_titles = data_with_name.dtype.names[:400]\n",
    "# movie_titles\n",
    "\n",
    "#find median\n",
    "data_with_name = pd.read_csv('/Users/yjeonlee/Desktop/[DS-GA-1001]Intro to Data Science/Project1/movieReplicationSet.csv', skipinitialspace = True)\n",
    "titles = data_with_name.columns\n",
    "\n",
    "years = []\n",
    "titles = titles[:400]\n",
    "print(len(titles))\n",
    "for title in titles:\n",
    "    if title.rfind('(') == -1:\n",
    "        continue\n",
    "    \n",
    "    #print(title)\n",
    "    start = title.rfind('(')\n",
    "    end = title.rfind(')')\n",
    "    year_str = title[start+1:end]\n",
    "    year_str = year_str.strip()\n",
    "    years.append(int(year_str))\n",
    "    #year = int(float(year_str))\n",
    "    \n",
    "median = np.median(np.array(years))\n",
    "print('median: ', median)\n",
    "\n",
    "#data_with_name = data_with_name[:400]\n",
    "data_with_name = data_with_name.iloc[:, 0:400]\n",
    "print(data_with_name.shape)\n",
    "\n",
    "\n",
    "low_medians = []\n",
    "high_medians = []\n",
    "for title in data_with_name.columns:\n",
    "    if title.rfind('(') == -1:\n",
    "        continue\n",
    "        \n",
    "    start = title.rfind('(')\n",
    "    end = title.rfind(')')\n",
    "    year_str = title[start+1:end]\n",
    "    year_str = year_str.strip()\n",
    "    year = int(year_str)\n",
    "    \n",
    "    if year > median:\n",
    "        rating = data_with_name[title].to_numpy()\n",
    "        high_medians.append(np.nanmedian(rating))\n",
    "#         print(year)\n",
    "#         print(type(data_with_name[title].to_numpy())\n",
    "    else:\n",
    "        rating = data_with_name[title].to_numpy()\n",
    "        low_medians.append(np.nanmedian(rating))\n",
    "        \n",
    "u1,p1 = stats.mannwhitneyu(high_medians, low_medians)\n",
    "print(p1)\n",
    "\n",
    "\n",
    "\n",
    "# # find median\n",
    "# data_with_name = np.genfromtxt('/Users/yjeonlee/Desktop/[DS-GA-1001]Intro to Data Science/Project1/movieReplicationSet.csv', delimiter = ',', names = True)\n",
    "\n",
    "# #data_with_name = np.genfromtxt('/Users/yjeonlee/Desktop/[DS-GA-1001]Intro to Data Science/Project1/movieReplicationSet.csv', delimiter = ',')\n",
    "# print(data_with_name.shape)\n",
    "# print(data_with_name)\n",
    "# movie_titles = data_with_name.dtype.names[:400]\n",
    "\n",
    "# years = []\n",
    "# for title in movie_titles:\n",
    "#     start = title.rfind('_')\n",
    "#     year = title[start+1:]\n",
    "#     #if year.isnumeric():\n",
    "#         #print(int(year))\n",
    "    \n",
    "    "
   ]
  },
  {
   "cell_type": "code",
   "execution_count": 47,
   "metadata": {},
   "outputs": [
    {
     "name": "stdout",
     "output_type": "stream",
     "text": [
      "743 241\n",
      "0.050536625925559006\n"
     ]
    }
   ],
   "source": [
    "# 3 TODO check self-rated?\n",
    "data = pd.read_csv('/Users/yjeonlee/Desktop/[DS-GA-1001]Intro to Data Science/Project1/movieReplicationSet.csv', skipinitialspace = True)\n",
    "shrek = data['Shrek (2001)'].to_numpy()\n",
    "gender = data['Gender identity (1 = female; 2 = male; 3 = self-described)'].to_numpy()\n",
    "#len(gender) == len(shrek)\n",
    "\n",
    "female_rates = []\n",
    "male_rates = []\n",
    "for i in range(0, len(gender)):\n",
    "    if gender[i] == 1 and not np.isnan(shrek[i]):\n",
    "        female_rates.append(shrek[i])\n",
    "    elif gender[i] == 2 and not np.isnan(shrek[i]):\n",
    "        male_rates.append(shrek[i])\n",
    "        \n",
    "print(len(female_rates), len(male_rates))\n",
    "\n",
    "u1,p1 = stats.mannwhitneyu(female_rates, male_rates) # alternative: two-sided\n",
    "print(p1)\n",
    "    "
   ]
  },
  {
   "cell_type": "code",
   "execution_count": 48,
   "metadata": {},
   "outputs": [
    {
     "name": "stdout",
     "output_type": "stream",
     "text": [
      "50\n"
     ]
    },
    {
     "data": {
      "text/plain": [
       "0.125"
      ]
     },
     "execution_count": 48,
     "metadata": {},
     "output_type": "execute_result"
    }
   ],
   "source": [
    "# 4\n",
    "data = pd.read_csv('/Users/yjeonlee/Desktop/[DS-GA-1001]Intro to Data Science/Project1/movieReplicationSet.csv', skipinitialspace = True)\n",
    "titles = data_with_name.columns\n",
    "titles = titles[:400]\n",
    "gender = data['Gender identity (1 = female; 2 = male; 3 = self-described)'].to_numpy()\n",
    "\n",
    "count = 0\n",
    "for title in titles:\n",
    "    movie_rating = data[title]\n",
    "    \n",
    "    female_rates = []\n",
    "    male_rates = []\n",
    "    for i in range(0, len(gender)):\n",
    "        if gender[i] == 1 and not np.isnan(movie_rating[i]):\n",
    "            female_rates.append(movie_rating[i])\n",
    "        elif gender[i] == 2 and not np.isnan(movie_rating[i]):\n",
    "            male_rates.append(movie_rating[i])\n",
    "            \n",
    "    u1, p1 = stats.mannwhitneyu(female_rates, male_rates) # alternative: two-sided\n",
    "    \n",
    "    if p1 < 0.005:\n",
    "        count += 1\n",
    "\n",
    "print(count)\n",
    "count / 400\n",
    "    \n",
    "    "
   ]
  },
  {
   "cell_type": "code",
   "execution_count": 49,
   "metadata": {},
   "outputs": [
    {
     "name": "stdout",
     "output_type": "stream",
     "text": [
      "0.978419092554931\n"
     ]
    }
   ],
   "source": [
    "# 5\n",
    "data = pd.read_csv('/Users/yjeonlee/Desktop/[DS-GA-1001]Intro to Data Science/Project1/movieReplicationSet.csv', skipinitialspace = True)\n",
    "lion_king = data['The Lion King (1994)'].to_numpy()\n",
    "relation = data['Are you an only child? (1: Yes; 0: No; -1: Did not respond)'].to_numpy()\n",
    "\n",
    "only_children = []\n",
    "siblings = []\n",
    "\n",
    "for i in range(0, len(gender)):\n",
    "    if relation[i] == 1 and not np.isnan(lion_king[i]):\n",
    "        only_children.append(lion_king[i])\n",
    "    elif relation[i] == 0 and not np.isnan(lion_king[i]):\n",
    "        siblings.append(lion_king[i])\n",
    "        \n",
    "u1,p1 = stats.mannwhitneyu(only_children, siblings, alternative = 'greater')\n",
    "print(p1)"
   ]
  },
  {
   "cell_type": "code",
   "execution_count": 50,
   "metadata": {},
   "outputs": [
    {
     "name": "stdout",
     "output_type": "stream",
     "text": [
      "7\n"
     ]
    },
    {
     "data": {
      "text/plain": [
       "0.0175"
      ]
     },
     "execution_count": 50,
     "metadata": {},
     "output_type": "execute_result"
    }
   ],
   "source": [
    "# 6\n",
    "data = pd.read_csv('/Users/yjeonlee/Desktop/[DS-GA-1001]Intro to Data Science/Project1/movieReplicationSet.csv', skipinitialspace = True)\n",
    "titles = data_with_name.columns\n",
    "titles = titles[:400]\n",
    "relation = data['Are you an only child? (1: Yes; 0: No; -1: Did not respond)'].to_numpy()\n",
    "\n",
    "count = 0\n",
    "for title in titles:\n",
    "    movie_rating = data[title]\n",
    "    \n",
    "    only_children = []\n",
    "    siblings = []\n",
    "    for i in range(0, len(relation)):\n",
    "        if relation[i] == 1 and not np.isnan(movie_rating[i]):\n",
    "            only_children.append(movie_rating[i])\n",
    "        elif relation[i] == 0 and not np.isnan(movie_rating[i]):\n",
    "            siblings.append(movie_rating[i])\n",
    "            \n",
    "    u1, p1 = stats.mannwhitneyu(siblings, only_children)\n",
    "    \n",
    "    #print(p1)\n",
    "    if p1 < 0.005:\n",
    "        count += 1\n",
    "\n",
    "print(count)\n",
    "count / 400"
   ]
  },
  {
   "cell_type": "code",
   "execution_count": 59,
   "metadata": {},
   "outputs": [
    {
     "name": "stdout",
     "output_type": "stream",
     "text": [
      "270 393\n",
      "0.9436657996253056\n"
     ]
    }
   ],
   "source": [
    "# 7\n",
    "data = pd.read_csv('/Users/yjeonlee/Desktop/[DS-GA-1001]Intro to Data Science/Project1/movieReplicationSet.csv', skipinitialspace = True)\n",
    "titles = data_with_name.columns\n",
    "titles = titles[:400]\n",
    "wolf_of_wall_street = data['The Wolf of Wall Street (2013)'].to_numpy()\n",
    "socially_enjoy = data['Movies are best enjoyed alone (1: Yes; 0: No; -1: Did not respond)'].to_numpy()\n",
    "\n",
    "movies_socially = []\n",
    "movies_alone = []\n",
    "\n",
    "for i in range(0, len(socially_enjoy)):\n",
    "    if socially_enjoy[i] == 1 and not np.isnan(wolf_of_wall_street[i]):\n",
    "        movies_alone.append(wolf_of_wall_street[i])\n",
    "    elif socially_enjoy[i] == 0 and not np.isnan(wolf_of_wall_street[i]):\n",
    "        movies_socially.append(wolf_of_wall_street[i])\n",
    "        \n",
    "print(len(movies_socially), len(movies_alone))        \n",
    "u1, p1 = stats.mannwhitneyu(movies_socially, movies_alone, alternative = 'greater')\n",
    "print(p1)"
   ]
  },
  {
   "cell_type": "code",
   "execution_count": 60,
   "metadata": {},
   "outputs": [
    {
     "name": "stdout",
     "output_type": "stream",
     "text": [
      "10\n"
     ]
    },
    {
     "data": {
      "text/plain": [
       "0.025"
      ]
     },
     "execution_count": 60,
     "metadata": {},
     "output_type": "execute_result"
    }
   ],
   "source": [
    "# 8\n",
    "data = pd.read_csv('/Users/yjeonlee/Desktop/[DS-GA-1001]Intro to Data Science/Project1/movieReplicationSet.csv', skipinitialspace = True)\n",
    "titles = data_with_name.columns\n",
    "titles = titles[:400]\n",
    "socially_enjoy = data['Movies are best enjoyed alone (1: Yes; 0: No; -1: Did not respond)'].to_numpy()\n",
    "\n",
    "count = 0\n",
    "for title in titles:\n",
    "    movie_rating = data[title]\n",
    "    \n",
    "    movies_socially = []\n",
    "    movies_alone = []\n",
    "    \n",
    "    for i in range(0, len(socially_enjoy)):\n",
    "        if socially_enjoy[i] == 1 and not np.isnan(movie_rating[i]):\n",
    "            movies_alone.append(movie_rating[i])\n",
    "        elif socially_enjoy[i] == 0 and not np.isnan(movie_rating[i]):\n",
    "            movies_socially.append(movie_rating[i])\n",
    "    \n",
    "    u1, p1 = stats.mannwhitneyu(movies_socially, movies_alone) # alternative = two-sided\n",
    "    \n",
    "    if p1 < 0.005:\n",
    "        count += 1\n",
    "\n",
    "print(count)\n",
    "count / 400"
   ]
  },
  {
   "cell_type": "code",
   "execution_count": 69,
   "metadata": {},
   "outputs": [
    {
     "data": {
      "text/plain": [
       "KstestResult(statistic=0.15269080020897632, pvalue=6.379381467525036e-10)"
      ]
     },
     "execution_count": 69,
     "metadata": {},
     "output_type": "execute_result"
    }
   ],
   "source": [
    "# 9\n",
    "data = pd.read_csv('/Users/yjeonlee/Desktop/[DS-GA-1001]Intro to Data Science/Project1/movieReplicationSet.csv', skipinitialspace = True)\n",
    "ha = data['Home Alone (1990)'].to_numpy()\n",
    "fn = data['Finding Nemo (2003)'].to_numpy()\n",
    "\n",
    "len(ha[~np.isnan(ha)])\n",
    "len(fn[~np.isnan(fn)])\n",
    "\n",
    "haa = ha[~np.isnan(ha)]\n",
    "fnn = fn[~np.isnan(fn)]\n",
    "\n",
    "stats.ks_2samp(haa, fnn) # default: two-sided"
   ]
  },
  {
   "cell_type": "code",
   "execution_count": 103,
   "metadata": {},
   "outputs": [
    {
     "data": {
      "text/plain": [
       "KruskalResult(statistic=193.51026675400544, pvalue=6.940162236984522e-40)"
      ]
     },
     "execution_count": 103,
     "metadata": {},
     "output_type": "execute_result"
    }
   ],
   "source": [
    "# 10\n",
    "data = pd.read_csv('/Users/yjeonlee/Desktop/[DS-GA-1001]Intro to Data Science/Project1/movieReplicationSet.csv', skipinitialspace = True)\n",
    "franchises = ['Star Wars', 'Harry Potter', 'The Matrix', 'Indiana Jones', 'Jurassic Park', 'Pirates of the Caribbean', 'Toy Stroy', 'Batman']\n",
    "\n",
    "# do 1\n",
    "title = 'Star Wars'\n",
    "series = data.loc[:, data.columns.str.contains(title)]\n",
    "#num_row, num_col = series.shape\n",
    "#num_col\n",
    "\n",
    "dropped = series.dropna()\n",
    "splitted = []\n",
    "for dropped_movie in dropped:\n",
    "    dropped_np = dropped[dropped_movie].to_numpy()\n",
    "    splitted.append(dropped_np)\n",
    "    \n",
    "stats.kruskal(splitted[0], splitted[1], splitted[2], splitted[3], splitted[4], splitted[5])    \n",
    "\n",
    "    \n",
    "#n_arr[~np.isnan(n_arr).any(axis=1)]"
   ]
  },
  {
   "cell_type": "code",
   "execution_count": 105,
   "metadata": {},
   "outputs": [
    {
     "name": "stdout",
     "output_type": "stream",
     "text": [
      "4\n"
     ]
    },
    {
     "data": {
      "text/plain": [
       "KruskalResult(statistic=5.8739552218536755, pvalue=0.11790622831256074)"
      ]
     },
     "execution_count": 105,
     "metadata": {},
     "output_type": "execute_result"
    }
   ],
   "source": [
    "title = 'Harry Potter'\n",
    "hp_series = data.loc[:, data.columns.str.contains(title)]\n",
    "#num_row, num_col = series.shape\n",
    "#num_col\n",
    "\n",
    "dropped = hp_series.dropna()\n",
    "splitted = []\n",
    "for dropped_movie in dropped:\n",
    "    dropped_np = dropped[dropped_movie].to_numpy()\n",
    "    splitted.append(dropped_np)\n",
    "    \n",
    "#print(len(splitted))\n",
    "    \n",
    "stats.kruskal(splitted[0], splitted[1], splitted[2], splitted[3])    \n"
   ]
  },
  {
   "cell_type": "code",
   "execution_count": 107,
   "metadata": {},
   "outputs": [
    {
     "data": {
      "text/plain": [
       "KruskalResult(statistic=40.32303905969196, pvalue=1.7537323830838066e-09)"
      ]
     },
     "execution_count": 107,
     "metadata": {},
     "output_type": "execute_result"
    }
   ],
   "source": [
    "title = 'The Matrix'\n",
    "matrix_series = data.loc[:, data.columns.str.contains(title)]\n",
    "#num_row, num_col = series.shape\n",
    "#num_col\n",
    "\n",
    "dropped = matrix_series.dropna()\n",
    "splitted = []\n",
    "for dropped_movie in dropped:\n",
    "    dropped_np = dropped[dropped_movie].to_numpy()\n",
    "    splitted.append(dropped_np)\n",
    "    \n",
    "#print(len(splitted))\n",
    "    \n",
    "stats.kruskal(splitted[0], splitted[1], splitted[2])    "
   ]
  },
  {
   "cell_type": "code",
   "execution_count": 109,
   "metadata": {},
   "outputs": [
    {
     "data": {
      "text/plain": [
       "KruskalResult(statistic=54.19395477406098, pvalue=1.020118354785894e-11)"
      ]
     },
     "execution_count": 109,
     "metadata": {},
     "output_type": "execute_result"
    }
   ],
   "source": [
    "title = 'Indiana Jones'\n",
    "indiana_jones_series = data.loc[:, data.columns.str.contains(title)]\n",
    "#num_row, num_col = series.shape\n",
    "#num_col\n",
    "\n",
    "dropped = indiana_jones_series.dropna()\n",
    "splitted = []\n",
    "for dropped_movie in dropped:\n",
    "    dropped_np = dropped[dropped_movie].to_numpy()\n",
    "    splitted.append(dropped_np)\n",
    "    \n",
    "#print(len(splitted))\n",
    "    \n",
    "stats.kruskal(splitted[0], splitted[1], splitted[2], splitted[3])    "
   ]
  },
  {
   "cell_type": "code",
   "execution_count": 111,
   "metadata": {},
   "outputs": [
    {
     "data": {
      "text/plain": [
       "KruskalResult(statistic=49.42733030275783, pvalue=1.8492328391686058e-11)"
      ]
     },
     "execution_count": 111,
     "metadata": {},
     "output_type": "execute_result"
    }
   ],
   "source": [
    "title = 'Jurassic Park'\n",
    "jurassic_park_series = data.loc[:, data.columns.str.contains(title)]\n",
    "#num_row, num_col = series.shape\n",
    "#num_col\n",
    "\n",
    "dropped = jurassic_park_series.dropna()\n",
    "splitted = []\n",
    "for dropped_movie in dropped:\n",
    "    dropped_np = dropped[dropped_movie].to_numpy()\n",
    "    splitted.append(dropped_np)\n",
    "    \n",
    "#print(len(splitted))\n",
    "    \n",
    "stats.kruskal(splitted[0], splitted[1], splitted[2])    "
   ]
  },
  {
   "cell_type": "code",
   "execution_count": 113,
   "metadata": {},
   "outputs": [
    {
     "name": "stdout",
     "output_type": "stream",
     "text": [
      "3\n"
     ]
    },
    {
     "data": {
      "text/plain": [
       "KruskalResult(statistic=6.660021086485515, pvalue=0.035792727694248905)"
      ]
     },
     "execution_count": 113,
     "metadata": {},
     "output_type": "execute_result"
    }
   ],
   "source": [
    "title = 'Pirates of the Caribbean'\n",
    "pirates_of_the_caribbean_series = data.loc[:, data.columns.str.contains(title)]\n",
    "#num_row, num_col = series.shape\n",
    "#num_col\n",
    "\n",
    "dropped = pirates_of_the_caribbean_series.dropna()\n",
    "splitted = []\n",
    "for dropped_movie in dropped:\n",
    "    dropped_np = dropped[dropped_movie].to_numpy()\n",
    "    splitted.append(dropped_np)\n",
    "    \n",
    "print(len(splitted))\n",
    "    \n",
    "stats.kruskal(splitted[0], splitted[1], splitted[2])    "
   ]
  },
  {
   "cell_type": "code",
   "execution_count": 115,
   "metadata": {},
   "outputs": [
    {
     "name": "stdout",
     "output_type": "stream",
     "text": [
      "3\n"
     ]
    },
    {
     "data": {
      "text/plain": [
       "KruskalResult(statistic=23.496729938969775, pvalue=7.902234665149812e-06)"
      ]
     },
     "execution_count": 115,
     "metadata": {},
     "output_type": "execute_result"
    }
   ],
   "source": [
    "title = 'Toy Story'\n",
    "toy_story_series = data.loc[:, data.columns.str.contains(title)]\n",
    "#num_row, num_col = series.shape\n",
    "#num_col\n",
    "\n",
    "dropped = toy_story_series.dropna()\n",
    "splitted = []\n",
    "for dropped_movie in dropped:\n",
    "    dropped_np = dropped[dropped_movie].to_numpy()\n",
    "    splitted.append(dropped_np)\n",
    "    \n",
    "print(len(splitted))\n",
    "    \n",
    "stats.kruskal(splitted[0], splitted[1], splitted[2])  "
   ]
  },
  {
   "cell_type": "code",
   "execution_count": 117,
   "metadata": {},
   "outputs": [
    {
     "name": "stdout",
     "output_type": "stream",
     "text": [
      "3\n"
     ]
    },
    {
     "data": {
      "text/plain": [
       "KruskalResult(statistic=84.65778425637279, pvalue=4.1380499020034183e-19)"
      ]
     },
     "execution_count": 117,
     "metadata": {},
     "output_type": "execute_result"
    }
   ],
   "source": [
    "title = 'Batman'\n",
    "batman_series = data.loc[:, data.columns.str.contains(title)]\n",
    "#num_row, num_col = series.shape\n",
    "#num_col\n",
    "\n",
    "dropped = batman_series.dropna()\n",
    "splitted = []\n",
    "for dropped_movie in dropped:\n",
    "    dropped_np = dropped[dropped_movie].to_numpy()\n",
    "    splitted.append(dropped_np)\n",
    "    \n",
    "print(len(splitted))\n",
    "    \n",
    "stats.kruskal(splitted[0], splitted[1], splitted[2])  "
   ]
  },
  {
   "cell_type": "code",
   "execution_count": null,
   "metadata": {},
   "outputs": [],
   "source": []
  },
  {
   "cell_type": "code",
   "execution_count": null,
   "metadata": {},
   "outputs": [],
   "source": []
  },
  {
   "cell_type": "code",
   "execution_count": 18,
   "metadata": {},
   "outputs": [
    {
     "name": "stdout",
     "output_type": "stream",
     "text": [
      "median:  197.5\n"
     ]
    },
    {
     "ename": "ValueError",
     "evalue": "`x` and `y` must not contain NaNs.",
     "output_type": "error",
     "traceback": [
      "\u001b[0;31m---------------------------------------------------------------------------\u001b[0m",
      "\u001b[0;31mValueError\u001b[0m                                Traceback (most recent call last)",
      "\u001b[0;32m<ipython-input-18-a1f786ac58ea>\u001b[0m in \u001b[0;36m<module>\u001b[0;34m\u001b[0m\n\u001b[1;32m     33\u001b[0m \u001b[0;34m\u001b[0m\u001b[0m\n\u001b[1;32m     34\u001b[0m \u001b[0;34m\u001b[0m\u001b[0m\n\u001b[0;32m---> 35\u001b[0;31m \u001b[0mu1\u001b[0m\u001b[0;34m,\u001b[0m\u001b[0mp1\u001b[0m \u001b[0;34m=\u001b[0m \u001b[0mstats\u001b[0m\u001b[0;34m.\u001b[0m\u001b[0mmannwhitneyu\u001b[0m\u001b[0;34m(\u001b[0m\u001b[0mlow\u001b[0m\u001b[0;34m,\u001b[0m\u001b[0mhigh\u001b[0m\u001b[0;34m)\u001b[0m\u001b[0;34m\u001b[0m\u001b[0;34m\u001b[0m\u001b[0m\n\u001b[0m\u001b[1;32m     36\u001b[0m \u001b[0;34m\u001b[0m\u001b[0m\n\u001b[1;32m     37\u001b[0m \u001b[0;31m#low = low[:len(low)-2]\u001b[0m\u001b[0;34m\u001b[0m\u001b[0;34m\u001b[0m\u001b[0;34m\u001b[0m\u001b[0m\n",
      "\u001b[0;32m~/opt/anaconda3/lib/python3.8/site-packages/scipy/stats/_mannwhitneyu.py\u001b[0m in \u001b[0;36mmannwhitneyu\u001b[0;34m(x, y, use_continuity, alternative, axis, method)\u001b[0m\n\u001b[1;32m    389\u001b[0m \u001b[0;34m\u001b[0m\u001b[0m\n\u001b[1;32m    390\u001b[0m     x, y, use_continuity, alternative, axis_int, method = (\n\u001b[0;32m--> 391\u001b[0;31m         _mwu_input_validation(x, y, use_continuity, alternative, axis, method))\n\u001b[0m\u001b[1;32m    392\u001b[0m \u001b[0;34m\u001b[0m\u001b[0m\n\u001b[1;32m    393\u001b[0m     \u001b[0mx\u001b[0m\u001b[0;34m,\u001b[0m \u001b[0my\u001b[0m\u001b[0;34m,\u001b[0m \u001b[0mxy\u001b[0m \u001b[0;34m=\u001b[0m \u001b[0m_broadcast_concatenate\u001b[0m\u001b[0;34m(\u001b[0m\u001b[0mx\u001b[0m\u001b[0;34m,\u001b[0m \u001b[0my\u001b[0m\u001b[0;34m,\u001b[0m \u001b[0maxis\u001b[0m\u001b[0;34m)\u001b[0m\u001b[0;34m\u001b[0m\u001b[0;34m\u001b[0m\u001b[0m\n",
      "\u001b[0;32m~/opt/anaconda3/lib/python3.8/site-packages/scipy/stats/_mannwhitneyu.py\u001b[0m in \u001b[0;36m_mwu_input_validation\u001b[0;34m(x, y, use_continuity, alternative, axis, method)\u001b[0m\n\u001b[1;32m    131\u001b[0m     \u001b[0mx\u001b[0m\u001b[0;34m,\u001b[0m \u001b[0my\u001b[0m \u001b[0;34m=\u001b[0m \u001b[0mnp\u001b[0m\u001b[0;34m.\u001b[0m\u001b[0matleast_1d\u001b[0m\u001b[0;34m(\u001b[0m\u001b[0mx\u001b[0m\u001b[0;34m)\u001b[0m\u001b[0;34m,\u001b[0m \u001b[0mnp\u001b[0m\u001b[0;34m.\u001b[0m\u001b[0matleast_1d\u001b[0m\u001b[0;34m(\u001b[0m\u001b[0my\u001b[0m\u001b[0;34m)\u001b[0m\u001b[0;34m\u001b[0m\u001b[0;34m\u001b[0m\u001b[0m\n\u001b[1;32m    132\u001b[0m     \u001b[0;32mif\u001b[0m \u001b[0mnp\u001b[0m\u001b[0;34m.\u001b[0m\u001b[0misnan\u001b[0m\u001b[0;34m(\u001b[0m\u001b[0mx\u001b[0m\u001b[0;34m)\u001b[0m\u001b[0;34m.\u001b[0m\u001b[0many\u001b[0m\u001b[0;34m(\u001b[0m\u001b[0;34m)\u001b[0m \u001b[0;32mor\u001b[0m \u001b[0mnp\u001b[0m\u001b[0;34m.\u001b[0m\u001b[0misnan\u001b[0m\u001b[0;34m(\u001b[0m\u001b[0my\u001b[0m\u001b[0;34m)\u001b[0m\u001b[0;34m.\u001b[0m\u001b[0many\u001b[0m\u001b[0;34m(\u001b[0m\u001b[0;34m)\u001b[0m\u001b[0;34m:\u001b[0m\u001b[0;34m\u001b[0m\u001b[0;34m\u001b[0m\u001b[0m\n\u001b[0;32m--> 133\u001b[0;31m         \u001b[0;32mraise\u001b[0m \u001b[0mValueError\u001b[0m\u001b[0;34m(\u001b[0m\u001b[0;34m'`x` and `y` must not contain NaNs.'\u001b[0m\u001b[0;34m)\u001b[0m\u001b[0;34m\u001b[0m\u001b[0;34m\u001b[0m\u001b[0m\n\u001b[0m\u001b[1;32m    134\u001b[0m     \u001b[0;32mif\u001b[0m \u001b[0mnp\u001b[0m\u001b[0;34m.\u001b[0m\u001b[0msize\u001b[0m\u001b[0;34m(\u001b[0m\u001b[0mx\u001b[0m\u001b[0;34m)\u001b[0m \u001b[0;34m==\u001b[0m \u001b[0;36m0\u001b[0m \u001b[0;32mor\u001b[0m \u001b[0mnp\u001b[0m\u001b[0;34m.\u001b[0m\u001b[0msize\u001b[0m\u001b[0;34m(\u001b[0m\u001b[0my\u001b[0m\u001b[0;34m)\u001b[0m \u001b[0;34m==\u001b[0m \u001b[0;36m0\u001b[0m\u001b[0;34m:\u001b[0m\u001b[0;34m\u001b[0m\u001b[0;34m\u001b[0m\u001b[0m\n\u001b[1;32m    135\u001b[0m         \u001b[0;32mraise\u001b[0m \u001b[0mValueError\u001b[0m\u001b[0;34m(\u001b[0m\u001b[0;34m'`x` and `y` must be of nonzero size.'\u001b[0m\u001b[0;34m)\u001b[0m\u001b[0;34m\u001b[0m\u001b[0;34m\u001b[0m\u001b[0m\n",
      "\u001b[0;31mValueError\u001b[0m: `x` and `y` must not contain NaNs."
     ]
    }
   ],
   "source": [
    "# 1\n",
    "ratings = data.iloc[:, 0:400]\n",
    "popularity = {} # key: movie name, value: the number of ratings\n",
    "\n",
    "for key in ratings.columns:\n",
    "    popularity[key] = ratings[key].replace('', np.nan).count()\n",
    "    #print(key)\n",
    "    #print(ratings[key].replace('', np.nan).count())\n",
    "    \n",
    "dict(sorted(popularity.items(), key = lambda item: item[1]))\n",
    "\n",
    "#find median\n",
    "popularity_lst = []\n",
    "for key in popularity:\n",
    "    popularity_lst.append(popularity[key])\n",
    "    \n",
    "popularity_lst = sorted(popularity_lst)\n",
    "#median = popularity_lst[len(popularity_lst)//2]\n",
    "\n",
    "print(\"median: \", (popularity_lst[199] + popularity_lst[200])/2)\n",
    "\n",
    "low = []\n",
    "high = []\n",
    "\n",
    "#print(ratings.columns.str.contains('a'))\n",
    "for key in popularity:\n",
    "    if popularity[key] < median:\n",
    "        low.append(ratings[key])\n",
    "    else:\n",
    "        high.append(ratings[key])\n",
    "        \n",
    "np.var(popularity_lst)\n",
    "\n",
    "\n",
    "u1,p1 = stats.mannwhitneyu(low,high)\n",
    "\n",
    "#low = low[:len(low)-2]\n",
    "#low\n",
    "        \n",
    "      #low.append(ratings.loc[:, ratings.columns.str.contains(key)])\n",
    "    #high.append(ratings.loc[:, ratings.columns.str.contains(key)])\n",
    "\n",
    "# low = pd.DataFrame() \n",
    "# high = pd.DataFrame()\n",
    "# for key in popularity:\n",
    "#     if popularity[key] < median:\n",
    "#         low.append(pd.DataFrame(ratings.loc[:, ratings.columns.str.contains(key)]))\n",
    "#     else:\n",
    "#         high.append(pd.DataFrame(ratings.loc[:, ratings.columns.str.contains(key)]))\n",
    "        \n",
    "# # low\n",
    "\n",
    "# #pd.DataFrame.from_dict(popularity)\n",
    "# converted_pd = pd.DataFrame([popularity], columns=popularity.keys())\n",
    "# converted_np = converted_pd.to_numpy()\n",
    "# converted_pd.median()\n",
    "# #df = pd.DataFrame([d], columns=d.keys())\n"
   ]
  },
  {
   "cell_type": "code",
   "execution_count": null,
   "metadata": {},
   "outputs": [],
   "source": [
    "for key in popularity:\n",
    "    print(key, ' : ', popularity[key])"
   ]
  },
  {
   "cell_type": "code",
   "execution_count": null,
   "metadata": {},
   "outputs": [],
   "source": []
  },
  {
   "cell_type": "code",
   "execution_count": null,
   "metadata": {},
   "outputs": [],
   "source": []
  },
  {
   "cell_type": "code",
   "execution_count": null,
   "metadata": {},
   "outputs": [],
   "source": []
  }
 ],
 "metadata": {
  "kernelspec": {
   "display_name": "Python 3",
   "language": "python",
   "name": "python3"
  },
  "language_info": {
   "codemirror_mode": {
    "name": "ipython",
    "version": 3
   },
   "file_extension": ".py",
   "mimetype": "text/x-python",
   "name": "python",
   "nbconvert_exporter": "python",
   "pygments_lexer": "ipython3",
   "version": "3.8.5"
  }
 },
 "nbformat": 4,
 "nbformat_minor": 4
}
