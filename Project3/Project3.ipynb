{
 "cells": [
  {
   "cell_type": "code",
   "execution_count": 90,
   "metadata": {},
   "outputs": [
    {
     "name": "stdout",
     "output_type": "stream",
     "text": [
      "(1097, 477)\n"
     ]
    }
   ],
   "source": [
    "import numpy as np\n",
    "import numpy.ma as ma\n",
    "import pandas as pd\n",
    "import matplotlib.pyplot as plt\n",
    "from scipy import stats\n",
    "from sklearn.decomposition import PCA\n",
    "from sklearn.cluster import KMeans\n",
    "from sklearn.metrics import silhouette_samples\n",
    "from scipy.spatial.distance import cdist\n",
    "\n",
    "from sklearn.ensemble import RandomForestClassifier\n",
    "from sklearn.model_selection import train_test_split\n",
    "from sklearn.metrics import confusion_matrix, accuracy_score\n",
    "\n",
    "data = np.genfromtxt('/Users/yjeonlee/Desktop/[DS-GA-1001]Intro to Data Science/Project3/movieReplicationSet.csv',  delimiter = ',',  skip_header = 1)\n",
    "print(data.shape)"
   ]
  },
  {
   "cell_type": "code",
   "execution_count": 91,
   "metadata": {},
   "outputs": [
    {
     "name": "stdout",
     "output_type": "stream",
     "text": [
      "(1097, 54)\n"
     ]
    }
   ],
   "source": [
    "selected = data[:, 421:475]\n",
    "print(selected.shape)"
   ]
  },
  {
   "cell_type": "code",
   "execution_count": 92,
   "metadata": {},
   "outputs": [
    {
     "data": {
      "text/plain": [
       "[<matplotlib.lines.Line2D at 0x7f849ca6a640>]"
      ]
     },
     "execution_count": 92,
     "metadata": {},
     "output_type": "execute_result"
    },
    {
     "data": {
      "image/png": "[encoded data removed]",
      "text/plain": [
       "<Figure size 432x288 with 1 Axes>"
      ]
     },
     "metadata": {
      "needs_background": "light"
     },
     "output_type": "display_data"
    }
   ],
   "source": [
    "# 1-a.\n",
    "colMedian = np.nanmedian(selected, axis=0)\n",
    "indices = np.where(np.isnan(selected))\n",
    "selected[indices] = np.take(colMedian, indices[1])\n",
    "#filledData = np.where(np.isnan(selected), ma.array(selected, mask=np.isnan(selected)).median(axis=0), selected)\n",
    "filledData = selected\n",
    "\n",
    "zscoredData = stats.zscore(filledData)\n",
    "\n",
    "pca = PCA().fit(zscoredData)\n",
    "eigVals = pca.explained_variance_\n",
    "loadings = pca.components_\n",
    "rotatedData = pca.fit_transform(zscoredData)\n",
    "covarExplained = eigVals/sum(eigVals)*100\n",
    "\n",
    "numClasses = 54\n",
    "plt.bar(np.linspace(1,54,54),eigVals)\n",
    "plt.xlabel('Principal component')\n",
    "plt.ylabel('Eigenvalue')\n",
    "plt.plot([0,numClasses],[1,1],color='red',linewidth=1) # Kaiser criterion line"
   ]
  },
  {
   "cell_type": "code",
   "execution_count": 93,
   "metadata": {},
   "outputs": [
    {
     "data": {
      "text/plain": [
       "Text(0, 0.5, 'Loading')"
      ]
     },
     "execution_count": 93,
     "metadata": {},
     "output_type": "execute_result"
    },
    {
     "data": {
      "image/png": "[encoded data removed]",
      "text/plain": [
       "<Figure size 432x288 with 1 Axes>"
      ]
     },
     "metadata": {
      "needs_background": "light"
     },
     "output_type": "display_data"
    }
   ],
   "source": [
    "# 1-b.\n",
    "whichPrincipalComponent = 0 # Try a few possibilities (at least 1,2,3 - or 0,1,2 that is - indexing from 0)\n",
    "\n",
    "# 1: The first one accounts for almost everything, so it will probably point \n",
    "# in all directions at once\n",
    "# 2: Challenging/informative - how much information?\n",
    "# 3: Organization/clarity: Pointing to 6 and 5, and away from 16 - structure?\n",
    "\n",
    "plt.bar(np.linspace(1,54,54),loadings[whichPrincipalComponent,:]*-1)\n",
    "plt.xlabel('Question')\n",
    "plt.ylabel('Loading')"
   ]
  },
  {
   "cell_type": "code",
   "execution_count": 94,
   "metadata": {},
   "outputs": [
    {
     "name": "stdout",
     "output_type": "stream",
     "text": [
      "[53 46 33 43 51 47 52 49 39 50 10 44 18 42 48 41 45 12 28 17 35  0 27  6\n",
      " 16 15 13  4 20 29 37 38 40 24 19 21 25  8 36 22 23  7 26  3  5 30 32 11\n",
      "  2  1 31 34 14  9]\n"
     ]
    },
    {
     "data": {
      "text/html": [
       "<div>\n",
       "<style scoped>\n",
       "    .dataframe tbody tr th:only-of-type {\n",
       "        vertical-align: middle;\n",
       "    }\n",
       "\n",
       "    .dataframe tbody tr th {\n",
       "        vertical-align: top;\n",
       "    }\n",
       "\n",
       "    .dataframe thead th {\n",
       "        text-align: right;\n",
       "    }\n",
       "</style>\n",
       "<table border=\"1\" class=\"dataframe\">\n",
       "  <thead>\n",
       "    <tr style=\"text-align: right;\">\n",
       "      <th></th>\n",
       "      <th>Tends to find fault with others</th>\n",
       "      <th>Does a thorough job</th>\n",
       "      <th>Is depressed/Blue</th>\n",
       "      <th>Is original/comes up with new ideas</th>\n",
       "      <th>Is reserved</th>\n",
       "      <th>Is helpful and unselfish with others</th>\n",
       "      <th>Can be somewhat careless</th>\n",
       "      <th>Is relaxed/handles stress well</th>\n",
       "      <th>Is curious about many different things</th>\n",
       "      <th>Is full of energy</th>\n",
       "      <th>...</th>\n",
       "      <th>I have trouble following the story of a movie</th>\n",
       "      <th>I have trouble remembering the story of a movie a couple of days after seeing it</th>\n",
       "      <th>When watching a movie I cheer or shout or talk or curse at the screen</th>\n",
       "      <th>When watching a movie I feel like the things on the screen are happening to me</th>\n",
       "      <th>As a movie unfolds I start to have problems keeping track of events that happened earlier</th>\n",
       "      <th>The emotions on the screen \"rub off\" on me - for instance if something sad is happening I get sad or if something frightening is happening I get scared</th>\n",
       "      <th>When watching a movie I get completely immersed in the alternative reality of the film</th>\n",
       "      <th>Movies change my position on social economic or political issues</th>\n",
       "      <th>When watching movies things get so intense that I have to stop watching</th>\n",
       "      <th>Gender identity (1 = female; 2 = male; 3 = self-described)</th>\n",
       "    </tr>\n",
       "  </thead>\n",
       "  <tbody>\n",
       "    <tr>\n",
       "      <th>0</th>\n",
       "      <td>2.0</td>\n",
       "      <td>NaN</td>\n",
       "      <td>4.0</td>\n",
       "      <td>4.0</td>\n",
       "      <td>5.0</td>\n",
       "      <td>2.0</td>\n",
       "      <td>3.0</td>\n",
       "      <td>5.0</td>\n",
       "      <td>1.0</td>\n",
       "      <td>1.0</td>\n",
       "      <td>...</td>\n",
       "      <td>4.0</td>\n",
       "      <td>1.0</td>\n",
       "      <td>1.0</td>\n",
       "      <td>6.0</td>\n",
       "      <td>2.0</td>\n",
       "      <td>5.0</td>\n",
       "      <td>5.0</td>\n",
       "      <td>5.0</td>\n",
       "      <td>1.0</td>\n",
       "      <td>1.0</td>\n",
       "    </tr>\n",
       "    <tr>\n",
       "      <th>1</th>\n",
       "      <td>3.0</td>\n",
       "      <td>4.0</td>\n",
       "      <td>1.0</td>\n",
       "      <td>3.0</td>\n",
       "      <td>5.0</td>\n",
       "      <td>3.0</td>\n",
       "      <td>4.0</td>\n",
       "      <td>3.0</td>\n",
       "      <td>3.0</td>\n",
       "      <td>3.0</td>\n",
       "      <td>...</td>\n",
       "      <td>3.0</td>\n",
       "      <td>1.0</td>\n",
       "      <td>3.0</td>\n",
       "      <td>1.0</td>\n",
       "      <td>1.0</td>\n",
       "      <td>6.0</td>\n",
       "      <td>5.0</td>\n",
       "      <td>3.0</td>\n",
       "      <td>2.0</td>\n",
       "      <td>1.0</td>\n",
       "    </tr>\n",
       "    <tr>\n",
       "      <th>2</th>\n",
       "      <td>2.0</td>\n",
       "      <td>4.0</td>\n",
       "      <td>2.0</td>\n",
       "      <td>3.0</td>\n",
       "      <td>3.0</td>\n",
       "      <td>4.0</td>\n",
       "      <td>4.0</td>\n",
       "      <td>2.0</td>\n",
       "      <td>4.0</td>\n",
       "      <td>3.0</td>\n",
       "      <td>...</td>\n",
       "      <td>3.0</td>\n",
       "      <td>1.0</td>\n",
       "      <td>5.0</td>\n",
       "      <td>4.0</td>\n",
       "      <td>3.0</td>\n",
       "      <td>5.0</td>\n",
       "      <td>5.0</td>\n",
       "      <td>4.0</td>\n",
       "      <td>4.0</td>\n",
       "      <td>1.0</td>\n",
       "    </tr>\n",
       "    <tr>\n",
       "      <th>3</th>\n",
       "      <td>3.0</td>\n",
       "      <td>5.0</td>\n",
       "      <td>4.0</td>\n",
       "      <td>5.0</td>\n",
       "      <td>3.0</td>\n",
       "      <td>4.0</td>\n",
       "      <td>1.0</td>\n",
       "      <td>2.0</td>\n",
       "      <td>5.0</td>\n",
       "      <td>4.0</td>\n",
       "      <td>...</td>\n",
       "      <td>1.0</td>\n",
       "      <td>1.0</td>\n",
       "      <td>3.0</td>\n",
       "      <td>1.0</td>\n",
       "      <td>1.0</td>\n",
       "      <td>4.0</td>\n",
       "      <td>5.0</td>\n",
       "      <td>3.0</td>\n",
       "      <td>1.0</td>\n",
       "      <td>1.0</td>\n",
       "    </tr>\n",
       "    <tr>\n",
       "      <th>4</th>\n",
       "      <td>4.0</td>\n",
       "      <td>4.0</td>\n",
       "      <td>4.0</td>\n",
       "      <td>2.0</td>\n",
       "      <td>3.0</td>\n",
       "      <td>4.0</td>\n",
       "      <td>4.0</td>\n",
       "      <td>2.0</td>\n",
       "      <td>4.0</td>\n",
       "      <td>3.0</td>\n",
       "      <td>...</td>\n",
       "      <td>3.0</td>\n",
       "      <td>4.0</td>\n",
       "      <td>2.0</td>\n",
       "      <td>3.0</td>\n",
       "      <td>2.0</td>\n",
       "      <td>5.0</td>\n",
       "      <td>6.0</td>\n",
       "      <td>4.0</td>\n",
       "      <td>4.0</td>\n",
       "      <td>1.0</td>\n",
       "    </tr>\n",
       "    <tr>\n",
       "      <th>...</th>\n",
       "      <td>...</td>\n",
       "      <td>...</td>\n",
       "      <td>...</td>\n",
       "      <td>...</td>\n",
       "      <td>...</td>\n",
       "      <td>...</td>\n",
       "      <td>...</td>\n",
       "      <td>...</td>\n",
       "      <td>...</td>\n",
       "      <td>...</td>\n",
       "      <td>...</td>\n",
       "      <td>...</td>\n",
       "      <td>...</td>\n",
       "      <td>...</td>\n",
       "      <td>...</td>\n",
       "      <td>...</td>\n",
       "      <td>...</td>\n",
       "      <td>...</td>\n",
       "      <td>...</td>\n",
       "      <td>...</td>\n",
       "      <td>...</td>\n",
       "    </tr>\n",
       "    <tr>\n",
       "      <th>1092</th>\n",
       "      <td>4.0</td>\n",
       "      <td>4.0</td>\n",
       "      <td>4.0</td>\n",
       "      <td>3.0</td>\n",
       "      <td>3.0</td>\n",
       "      <td>4.0</td>\n",
       "      <td>4.0</td>\n",
       "      <td>2.0</td>\n",
       "      <td>5.0</td>\n",
       "      <td>3.0</td>\n",
       "      <td>...</td>\n",
       "      <td>4.0</td>\n",
       "      <td>3.0</td>\n",
       "      <td>3.0</td>\n",
       "      <td>4.0</td>\n",
       "      <td>3.0</td>\n",
       "      <td>5.0</td>\n",
       "      <td>5.0</td>\n",
       "      <td>4.0</td>\n",
       "      <td>4.0</td>\n",
       "      <td>1.0</td>\n",
       "    </tr>\n",
       "    <tr>\n",
       "      <th>1093</th>\n",
       "      <td>5.0</td>\n",
       "      <td>5.0</td>\n",
       "      <td>2.0</td>\n",
       "      <td>5.0</td>\n",
       "      <td>4.0</td>\n",
       "      <td>5.0</td>\n",
       "      <td>5.0</td>\n",
       "      <td>5.0</td>\n",
       "      <td>4.0</td>\n",
       "      <td>4.0</td>\n",
       "      <td>...</td>\n",
       "      <td>4.0</td>\n",
       "      <td>5.0</td>\n",
       "      <td>5.0</td>\n",
       "      <td>3.0</td>\n",
       "      <td>5.0</td>\n",
       "      <td>5.0</td>\n",
       "      <td>5.0</td>\n",
       "      <td>6.0</td>\n",
       "      <td>5.0</td>\n",
       "      <td>1.0</td>\n",
       "    </tr>\n",
       "    <tr>\n",
       "      <th>1094</th>\n",
       "      <td>2.0</td>\n",
       "      <td>5.0</td>\n",
       "      <td>4.0</td>\n",
       "      <td>2.0</td>\n",
       "      <td>5.0</td>\n",
       "      <td>5.0</td>\n",
       "      <td>1.0</td>\n",
       "      <td>2.0</td>\n",
       "      <td>5.0</td>\n",
       "      <td>3.0</td>\n",
       "      <td>...</td>\n",
       "      <td>2.0</td>\n",
       "      <td>3.0</td>\n",
       "      <td>6.0</td>\n",
       "      <td>3.0</td>\n",
       "      <td>1.0</td>\n",
       "      <td>6.0</td>\n",
       "      <td>6.0</td>\n",
       "      <td>4.0</td>\n",
       "      <td>2.0</td>\n",
       "      <td>1.0</td>\n",
       "    </tr>\n",
       "    <tr>\n",
       "      <th>1095</th>\n",
       "      <td>2.0</td>\n",
       "      <td>4.0</td>\n",
       "      <td>3.0</td>\n",
       "      <td>5.0</td>\n",
       "      <td>5.0</td>\n",
       "      <td>5.0</td>\n",
       "      <td>5.0</td>\n",
       "      <td>4.0</td>\n",
       "      <td>4.0</td>\n",
       "      <td>5.0</td>\n",
       "      <td>...</td>\n",
       "      <td>5.0</td>\n",
       "      <td>3.0</td>\n",
       "      <td>1.0</td>\n",
       "      <td>1.0</td>\n",
       "      <td>1.0</td>\n",
       "      <td>4.0</td>\n",
       "      <td>3.0</td>\n",
       "      <td>3.0</td>\n",
       "      <td>1.0</td>\n",
       "      <td>1.0</td>\n",
       "    </tr>\n",
       "    <tr>\n",
       "      <th>1096</th>\n",
       "      <td>4.0</td>\n",
       "      <td>5.0</td>\n",
       "      <td>2.0</td>\n",
       "      <td>4.0</td>\n",
       "      <td>3.0</td>\n",
       "      <td>5.0</td>\n",
       "      <td>4.0</td>\n",
       "      <td>5.0</td>\n",
       "      <td>5.0</td>\n",
       "      <td>4.0</td>\n",
       "      <td>...</td>\n",
       "      <td>3.0</td>\n",
       "      <td>4.0</td>\n",
       "      <td>3.0</td>\n",
       "      <td>4.0</td>\n",
       "      <td>1.0</td>\n",
       "      <td>4.0</td>\n",
       "      <td>4.0</td>\n",
       "      <td>4.0</td>\n",
       "      <td>1.0</td>\n",
       "      <td>1.0</td>\n",
       "    </tr>\n",
       "  </tbody>\n",
       "</table>\n",
       "<p>1097 rows × 54 columns</p>\n",
       "</div>"
      ],
      "text/plain": [
       "      Tends to find fault with others  Does a thorough job  Is depressed/Blue  \\\n",
       "0                                 2.0                  NaN                4.0   \n",
       "1                                 3.0                  4.0                1.0   \n",
       "2                                 2.0                  4.0                2.0   \n",
       "3                                 3.0                  5.0                4.0   \n",
       "4                                 4.0                  4.0                4.0   \n",
       "...                               ...                  ...                ...   \n",
       "1092                              4.0                  4.0                4.0   \n",
       "1093                              5.0                  5.0                2.0   \n",
       "1094                              2.0                  5.0                4.0   \n",
       "1095                              2.0                  4.0                3.0   \n",
       "1096                              4.0                  5.0                2.0   \n",
       "\n",
       "      Is original/comes up with new ideas  Is reserved  \\\n",
       "0                                     4.0          5.0   \n",
       "1                                     3.0          5.0   \n",
       "2                                     3.0          3.0   \n",
       "3                                     5.0          3.0   \n",
       "4                                     2.0          3.0   \n",
       "...                                   ...          ...   \n",
       "1092                                  3.0          3.0   \n",
       "1093                                  5.0          4.0   \n",
       "1094                                  2.0          5.0   \n",
       "1095                                  5.0          5.0   \n",
       "1096                                  4.0          3.0   \n",
       "\n",
       "      Is helpful and unselfish with others  Can be somewhat careless  \\\n",
       "0                                      2.0                       3.0   \n",
       "1                                      3.0                       4.0   \n",
       "2                                      4.0                       4.0   \n",
       "3                                      4.0                       1.0   \n",
       "4                                      4.0                       4.0   \n",
       "...                                    ...                       ...   \n",
       "1092                                   4.0                       4.0   \n",
       "1093                                   5.0                       5.0   \n",
       "1094                                   5.0                       1.0   \n",
       "1095                                   5.0                       5.0   \n",
       "1096                                   5.0                       4.0   \n",
       "\n",
       "      Is relaxed/handles stress well  Is curious about many different things  \\\n",
       "0                                5.0                                     1.0   \n",
       "1                                3.0                                     3.0   \n",
       "2                                2.0                                     4.0   \n",
       "3                                2.0                                     5.0   \n",
       "4                                2.0                                     4.0   \n",
       "...                              ...                                     ...   \n",
       "1092                             2.0                                     5.0   \n",
       "1093                             5.0                                     4.0   \n",
       "1094                             2.0                                     5.0   \n",
       "1095                             4.0                                     4.0   \n",
       "1096                             5.0                                     5.0   \n",
       "\n",
       "      Is full of energy  ...  I have trouble following the story of a movie  \\\n",
       "0                   1.0  ...                                            4.0   \n",
       "1                   3.0  ...                                            3.0   \n",
       "2                   3.0  ...                                            3.0   \n",
       "3                   4.0  ...                                            1.0   \n",
       "4                   3.0  ...                                            3.0   \n",
       "...                 ...  ...                                            ...   \n",
       "1092                3.0  ...                                            4.0   \n",
       "1093                4.0  ...                                            4.0   \n",
       "1094                3.0  ...                                            2.0   \n",
       "1095                5.0  ...                                            5.0   \n",
       "1096                4.0  ...                                            3.0   \n",
       "\n",
       "      I have trouble remembering the story of a movie a couple of days after seeing it  \\\n",
       "0                                                   1.0                                  \n",
       "1                                                   1.0                                  \n",
       "2                                                   1.0                                  \n",
       "3                                                   1.0                                  \n",
       "4                                                   4.0                                  \n",
       "...                                                 ...                                  \n",
       "1092                                                3.0                                  \n",
       "1093                                                5.0                                  \n",
       "1094                                                3.0                                  \n",
       "1095                                                3.0                                  \n",
       "1096                                                4.0                                  \n",
       "\n",
       "      When watching a movie I cheer or shout or talk or curse at the screen  \\\n",
       "0                                                   1.0                       \n",
       "1                                                   3.0                       \n",
       "2                                                   5.0                       \n",
       "3                                                   3.0                       \n",
       "4                                                   2.0                       \n",
       "...                                                 ...                       \n",
       "1092                                                3.0                       \n",
       "1093                                                5.0                       \n",
       "1094                                                6.0                       \n",
       "1095                                                1.0                       \n",
       "1096                                                3.0                       \n",
       "\n",
       "      When watching a movie I feel like the things on the screen are happening to me  \\\n",
       "0                                                   6.0                                \n",
       "1                                                   1.0                                \n",
       "2                                                   4.0                                \n",
       "3                                                   1.0                                \n",
       "4                                                   3.0                                \n",
       "...                                                 ...                                \n",
       "1092                                                4.0                                \n",
       "1093                                                3.0                                \n",
       "1094                                                3.0                                \n",
       "1095                                                1.0                                \n",
       "1096                                                4.0                                \n",
       "\n",
       "      As a movie unfolds I start to have problems keeping track of events that happened earlier  \\\n",
       "0                                                   2.0                                           \n",
       "1                                                   1.0                                           \n",
       "2                                                   3.0                                           \n",
       "3                                                   1.0                                           \n",
       "4                                                   2.0                                           \n",
       "...                                                 ...                                           \n",
       "1092                                                3.0                                           \n",
       "1093                                                5.0                                           \n",
       "1094                                                1.0                                           \n",
       "1095                                                1.0                                           \n",
       "1096                                                1.0                                           \n",
       "\n",
       "      The emotions on the screen \"rub off\" on me - for instance if something sad is happening I get sad or if something frightening is happening I get scared  \\\n",
       "0                                                   5.0                                                                                                         \n",
       "1                                                   6.0                                                                                                         \n",
       "2                                                   5.0                                                                                                         \n",
       "3                                                   4.0                                                                                                         \n",
       "4                                                   5.0                                                                                                         \n",
       "...                                                 ...                                                                                                         \n",
       "1092                                                5.0                                                                                                         \n",
       "1093                                                5.0                                                                                                         \n",
       "1094                                                6.0                                                                                                         \n",
       "1095                                                4.0                                                                                                         \n",
       "1096                                                4.0                                                                                                         \n",
       "\n",
       "      When watching a movie I get completely immersed in the alternative reality of the film  \\\n",
       "0                                                   5.0                                        \n",
       "1                                                   5.0                                        \n",
       "2                                                   5.0                                        \n",
       "3                                                   5.0                                        \n",
       "4                                                   6.0                                        \n",
       "...                                                 ...                                        \n",
       "1092                                                5.0                                        \n",
       "1093                                                5.0                                        \n",
       "1094                                                6.0                                        \n",
       "1095                                                3.0                                        \n",
       "1096                                                4.0                                        \n",
       "\n",
       "      Movies change my position on social economic or political issues  \\\n",
       "0                                                   5.0                  \n",
       "1                                                   3.0                  \n",
       "2                                                   4.0                  \n",
       "3                                                   3.0                  \n",
       "4                                                   4.0                  \n",
       "...                                                 ...                  \n",
       "1092                                                4.0                  \n",
       "1093                                                6.0                  \n",
       "1094                                                4.0                  \n",
       "1095                                                3.0                  \n",
       "1096                                                4.0                  \n",
       "\n",
       "      When watching movies things get so intense that I have to stop watching  \\\n",
       "0                                                   1.0                         \n",
       "1                                                   2.0                         \n",
       "2                                                   4.0                         \n",
       "3                                                   1.0                         \n",
       "4                                                   4.0                         \n",
       "...                                                 ...                         \n",
       "1092                                                4.0                         \n",
       "1093                                                5.0                         \n",
       "1094                                                2.0                         \n",
       "1095                                                1.0                         \n",
       "1096                                                1.0                         \n",
       "\n",
       "      Gender identity (1 = female; 2 = male; 3 = self-described)  \n",
       "0                                                   1.0           \n",
       "1                                                   1.0           \n",
       "2                                                   1.0           \n",
       "3                                                   1.0           \n",
       "4                                                   1.0           \n",
       "...                                                 ...           \n",
       "1092                                                1.0           \n",
       "1093                                                1.0           \n",
       "1094                                                1.0           \n",
       "1095                                                1.0           \n",
       "1096                                                1.0           \n",
       "\n",
       "[1097 rows x 54 columns]"
      ]
     },
     "execution_count": 94,
     "metadata": {},
     "output_type": "execute_result"
    }
   ],
   "source": [
    "# sort by absolute value\n",
    "load = loadings[whichPrincipalComponent,:]*-1\n",
    "print(np.argsort(abs(load)))\n",
    "\n",
    "# find column name\n",
    "import pandas as pd\n",
    "dataPd = pd.read_csv('/Users/yjeonlee/Desktop/[DS-GA-1001]Intro to Data Science/Project3/movieReplicationSet.csv')\n",
    "selected = dataPd.iloc[:, 421:475]\n",
    "selected"
   ]
  },
  {
   "cell_type": "code",
   "execution_count": 95,
   "metadata": {},
   "outputs": [
    {
     "data": {
      "text/plain": [
       "Text(0, 0.5, 'Generates a lot of Enthusiasm')"
      ]
     },
     "execution_count": 95,
     "metadata": {},
     "output_type": "execute_result"
    },
    {
     "data": {
      "image/png": "[encoded data removed]",
      "text/plain": [
       "<Figure size 432x288 with 1 Axes>"
      ]
     },
     "metadata": {
      "needs_background": "light"
     },
     "output_type": "display_data"
    }
   ],
   "source": [
    "# 2\n",
    "plt.plot(rotatedData[:,9]*-1, rotatedData[:,14]*-1, 'o',markersize=2)\n",
    "plt.xlabel('Is full of energy')\n",
    "plt.ylabel('Generates a lot of Enthusiasm')"
   ]
  },
  {
   "cell_type": "code",
   "execution_count": 96,
   "metadata": {},
   "outputs": [
    {
     "data": {
      "image/png": "[encoded data removed]",
      "text/plain": [
       "<Figure size 432x288 with 1 Axes>"
      ]
     },
     "metadata": {
      "needs_background": "light"
     },
     "output_type": "display_data"
    }
   ],
   "source": [
    "# 3\n",
    "res = list()\n",
    "n_cluster = range(2,20)\n",
    "for n in n_cluster:\n",
    "    kmeans = KMeans(n_clusters=n)\n",
    "    kmeans.fit(rotatedData)\n",
    "    res.append(np.average(np.min(cdist(rotatedData, kmeans.cluster_centers_, 'euclidean'), axis=1)))\n",
    "\n",
    "plt.bar(n_cluster, res)\n",
    "plt.title('elbow curve')\n",
    "plt.show()"
   ]
  },
  {
   "cell_type": "code",
   "execution_count": 98,
   "metadata": {},
   "outputs": [
    {
     "data": {
      "image/png": "[encoded data removed]",
      "text/plain": [
       "<Figure size 432x288 with 9 Axes>"
      ]
     },
     "metadata": {
      "needs_background": "light"
     },
     "output_type": "display_data"
    }
   ],
   "source": [
    "# Init:\n",
    "numClusters = 11 # how many clusters are we looping over? (from 2 to 10)\n",
    "Q = np.empty([numClusters,1]) # init container to store sums\n",
    "Q[:] = np.NaN # convert to NaN\n",
    "\n",
    "# Store our transformed data - the predictors - as X:\n",
    "X = np.transpose(np.array([rotatedData[:,0],rotatedData[:,1]]))\n",
    "\n",
    "# Compute kMeans:\n",
    "for ii in range(2, 11): # Loop through each cluster (from 2 to 10!)\n",
    "    kMeans = KMeans(n_clusters = int(ii)).fit(X) # compute kmeans\n",
    "    cId = kMeans.labels_ # vector of cluster IDs that the row belongs to\n",
    "    cCoords = kMeans.cluster_centers_ # coordinate location for center of each cluster\n",
    "    s = silhouette_samples(X,cId) # compute the mean silhouette coefficient of all samples\n",
    "    # print(s.shape)\n",
    "    Q[ii-2] = sum(s) # take sum\n",
    "    #print(int(Q[ii-2]))\n",
    "    # Plot data:\n",
    "    plt.subplot(3,3,ii-1) \n",
    "    plt.hist(s,bins=20) \n",
    "    plt.xlim(0.2,1)\n",
    "    plt.ylim(0,500)\n",
    "    plt.xlabel('Silhouette score')\n",
    "    plt.ylabel('Count')\n",
    "    plt.title('Sum: {}'.format(int(Q[ii-2]))) # sum rounded to nearest integer\n",
    "    "
   ]
  },
  {
   "cell_type": "code",
   "execution_count": 99,
   "metadata": {},
   "outputs": [
    {
     "data": {
      "image/png": "[encoded data removed]",
      "text/plain": [
       "<Figure size 432x288 with 1 Axes>"
      ]
     },
     "metadata": {
      "needs_background": "light"
     },
     "output_type": "display_data"
    }
   ],
   "source": [
    "#%% Plot this to make it clearer what is going on\n",
    "\n",
    "plt.plot(np.linspace(2,10,numClusters),Q)\n",
    "plt.xlabel('Number of clusters')\n",
    "plt.ylabel('Sum of silhouette scores')\n",
    "plt.show()\n",
    "\n",
    "# kMeans gives you the center coordinates of the clusters, assuming a number\n",
    "# of clusters. Silhouette gives you how many are most unamigously described\n",
    "# by the clusters. Most likely \"real\" number: Where the sum of the\n",
    "# silhouette scores peaks. In reality, they are complementary. Use together\n"
   ]
  },
  {
   "cell_type": "code",
   "execution_count": 100,
   "metadata": {},
   "outputs": [
    {
     "name": "stdout",
     "output_type": "stream",
     "text": [
      "370\n"
     ]
    },
    {
     "data": {
      "image/png": "[encoded data removed]",
      "text/plain": [
       "<Figure size 432x288 with 1 Axes>"
      ]
     },
     "metadata": {
      "needs_background": "light"
     },
     "output_type": "display_data"
    }
   ],
   "source": [
    "kMeans = KMeans(n_clusters = int(2)).fit(X) # compute kmeans\n",
    "cId = kMeans.labels_ # vector of cluster IDs that the row belongs to\n",
    "cCoords = kMeans.cluster_centers_ # coordinate location for center of each cluster\n",
    "s = silhouette_samples(X,cId) # compute the mean silhouette coefficient of all samples\n",
    "    # print(s.shape)\n",
    "Q[ii-2] = sum(s) # take sum\n",
    "print(int(Q[ii-2]))\n",
    "\n",
    "\n",
    "\n",
    "#%% Now let's plot and color code the data\n",
    "indexVector = np.linspace(1,len(np.unique(cId)),len(np.unique(cId))) \n",
    "for ii in indexVector:\n",
    "    plotIndex = np.argwhere(cId == int(ii-1))\n",
    "    plt.plot(rotatedData[plotIndex,0],rotatedData[plotIndex,1],'o',markersize=1)\n",
    "    plt.plot(cCoords[int(ii-1),0],cCoords[int(ii-1),1],'o',markersize=5,color='black')  \n",
    "    plt.xlabel('Challenges')\n",
    "    plt.ylabel('Support')\n"
   ]
  },
  {
   "cell_type": "code",
   "execution_count": 101,
   "metadata": {},
   "outputs": [
    {
     "name": "stdout",
     "output_type": "stream",
     "text": [
      "(1097,)\n",
      "[[26 28 12]\n",
      " [25 28 19]\n",
      " [21 31 30]]\n"
     ]
    },
    {
     "data": {
      "text/plain": [
       "0.38181818181818183"
      ]
     },
     "execution_count": 101,
     "metadata": {},
     "output_type": "execute_result"
    }
   ],
   "source": [
    "# 4\n",
    "\n",
    "ratings = data[:, :400]\n",
    "\n",
    "aveRatings = []\n",
    "for i in range(0, len(ratings)):\n",
    "    if np.isnan(ratings[i]).all():\n",
    "        aveRatings.append(2)\n",
    "    else:\n",
    "        #print(type(ratings[i]))\n",
    "        aveRatings.append(np.nanmean(ratings[i]))\n",
    "\n",
    "aveRatings = np.array(aveRatings)\n",
    "print(aveRatings.shape)\n",
    "\n",
    "class1 = np.quantile(aveRatings, .33)\n",
    "class2 = np.quantile(aveRatings, .66)\n",
    "class3 = np.quantile(aveRatings, 1.0)\n",
    "\n",
    "# convert to class\n",
    "for i in range(0, len(aveRatings)):\n",
    "    if aveRatings[i] < class1:\n",
    "        aveRatings[i] = 1\n",
    "    elif aveRatings[i] < class2:\n",
    "        aveRatings[i] = 2\n",
    "    else:\n",
    "        aveRatings[i] = 3\n",
    "\n",
    "X_train, X_test, y_train, y_test = train_test_split(rotatedData, aveRatings, test_size=0.2) # 70% training and 30% test\n",
    "\n",
    "classifier = RandomForestClassifier(n_estimators=50, criterion = 'entropy', random_state=1)\n",
    "classifier.fit(X_train, y_train)\n",
    "\n",
    "y_pred = classifier.predict(X_test)\n",
    "\n",
    "cm = confusion_matrix(y_test, y_pred)\n",
    "\n",
    "# output confusion matrix and total accuracy score\n",
    "print(cm)\n",
    "\n",
    "accuracy_score(y_test, y_pred)"
   ]
  },
  {
   "cell_type": "code",
   "execution_count": 102,
   "metadata": {},
   "outputs": [
    {
     "name": "stdout",
     "output_type": "stream",
     "text": [
      "(220,)\n",
      "(220,)\n"
     ]
    },
    {
     "name": "stderr",
     "output_type": "stream",
     "text": [
      "/Users/yjeonlee/opt/anaconda3/lib/python3.8/site-packages/sklearn/metrics/_ranking.py:811: UndefinedMetricWarning: No positive samples in y_true, true positive value should be meaningless\n",
      "  warnings.warn(\"No positive samples in y_true, \"\n"
     ]
    },
    {
     "data": {
      "image/png": "[encoded data removed]",
      "text/plain": [
       "<Figure size 432x288 with 1 Axes>"
      ]
     },
     "metadata": {
      "needs_background": "light"
     },
     "output_type": "display_data"
    }
   ],
   "source": [
    "from sklearn import metrics\n",
    "from sklearn.metrics import roc_curve, auc, roc_auc_score\n",
    "#metrics.plot_roc_curve(classifier, X_test, y_test) \n",
    "print(y_test.shape)\n",
    "print(y_pred.shape)\n",
    "#roc_auc_score(y_test, y_pred, multi_class='ovo')\n",
    "\n",
    "\n",
    "# roc curve for classes\n",
    "fpr = {}\n",
    "tpr = {}\n",
    "thresh ={}\n",
    "\n",
    "n_class = 3\n",
    "\n",
    "for i in range(n_class):    \n",
    "    fpr[i], tpr[i], thresh[i] = roc_curve(y_test, y_pred, pos_label=i)\n",
    "    \n",
    "# plotting    \n",
    "plt.plot(fpr[0], tpr[0], linestyle='--',color='orange', label='Class 0 vs Rest')\n",
    "plt.plot(fpr[1], tpr[1], linestyle='--',color='green', label='Class 1 vs Rest')\n",
    "plt.plot(fpr[2], tpr[2], linestyle='--',color='blue', label='Class 2 vs Rest')\n",
    "#plt.plot(fpr[3], tpr[3], linestyle='--',color='yellow', label='Class 3 vs Rest')\n",
    "plt.title('Multiclass ROC curve')\n",
    "plt.xlabel('False Positive Rate')\n",
    "plt.ylabel('True Positive rate')\n",
    "plt.legend(loc='best')\n",
    "plt.savefig('Multiclass ROC',dpi=300);    "
   ]
  },
  {
   "cell_type": "code",
   "execution_count": 103,
   "metadata": {},
   "outputs": [
    {
     "name": "stdout",
     "output_type": "stream",
     "text": [
      "[[2.15131579 2.02112676 4.         ... 2.40229885 2.1147541  2.33796296]\n",
      " [2.15131579 2.02112676 1.5        ... 2.40229885 2.1147541  2.33796296]\n",
      " [2.15131579 2.02112676 3.15342163 ... 2.40229885 2.1147541  2.33796296]\n",
      " ...\n",
      " [2.15131579 2.02112676 3.15342163 ... 2.40229885 2.1147541  2.33796296]\n",
      " [2.15131579 2.02112676 3.15342163 ... 2.40229885 2.1147541  2.33796296]\n",
      " [2.15131579 2.02112676 4.         ... 2.40229885 2.1147541  2.33796296]]\n",
      "(1097,)\n",
      "[1. 1. 2. ... 2. 2. 2.]\n",
      "[[27 13 35]\n",
      " [33 25 28]\n",
      " [16 13 30]]\n"
     ]
    },
    {
     "data": {
      "text/plain": [
       "0.37272727272727274"
      ]
     },
     "execution_count": 103,
     "metadata": {},
     "output_type": "execute_result"
    }
   ],
   "source": [
    "\n",
    "\n",
    "ratings = data[:, :400]\n",
    "# ratings = ratings.T\n",
    "# print(ratings)\n",
    "\n",
    "\n",
    "mean = np.nanmean(ratings, axis=0)\n",
    "idx = np.where(np.isnan(ratings))\n",
    "ratings[idx] = np.take(mean, idx[1])\n",
    "\n",
    "print(ratings)\n",
    "\n",
    "\n",
    "\n",
    "aveRatings = []\n",
    "for i in range(0, len(ratings)):\n",
    "    if np.isnan(ratings[i]).all():\n",
    "        aveRatings.append(2)\n",
    "    else:\n",
    "        #print(type(ratings[i]))\n",
    "        aveRatings.append(np.nanmean(ratings[i]))\n",
    "\n",
    "aveRatings = np.array(aveRatings)\n",
    "print(aveRatings.shape)\n",
    "\n",
    "class1 = np.quantile(aveRatings, .33)\n",
    "class2 = np.quantile(aveRatings, .66)\n",
    "class3 = np.quantile(aveRatings, 1.0)\n",
    "#class4 = np.quantile(aveRatings, 1.0)\n",
    "\n",
    "# convert to class\n",
    "for i in range(0, len(aveRatings)):\n",
    "    if aveRatings[i] < class1:\n",
    "        aveRatings[i] = 1\n",
    "    elif aveRatings[i] < class2:\n",
    "        aveRatings[i] = 2\n",
    "#     elif aveRatings[i] < class3:\n",
    "#         aveRatings[i] = 3\n",
    "    else:\n",
    "        aveRatings[i] = 3\n",
    "\n",
    "print(aveRatings)\n",
    "X_train, X_test, y_train, y_test = train_test_split(rotatedData, aveRatings, test_size=0.2) # 70% training and 30% test\n",
    "\n",
    "from sklearn.preprocessing import StandardScaler\n",
    "sc = StandardScaler()\n",
    "X_train = sc.fit_transform(X_train)\n",
    "X_test = sc.transform(X_test)\n",
    "\n",
    "classifier = RandomForestClassifier(n_estimators=50, criterion = 'entropy', random_state=1)\n",
    "classifier.fit(X_train, y_train)\n",
    "\n",
    "y_pred = classifier.predict(X_test)\n",
    "\n",
    "cm = confusion_matrix(y_test, y_pred)\n",
    "\n",
    "# output confusion matrix and total accuracy score\n",
    "print(cm)\n",
    "\n",
    "accuracy_score(y_test, y_pred)\n",
    "\n",
    "\n",
    "\n",
    "# y_pred = classifier.predict(X_test)\n",
    "\n",
    "# # check accuracy comparig y_test and y_pred\n",
    "# from sklearn.metrics import confusion_matrix, accuracy_score\n",
    "# cm = confusion_matrix(y_test, y_pred)\n",
    "\n",
    "# # output confusion matrix and total accuracy score\n",
    "# print(cm)\n",
    "# accuracy_score(y_test, y_pred)"
   ]
  },
  {
   "cell_type": "code",
   "execution_count": 182,
   "metadata": {},
   "outputs": [],
   "source": [
    "# from sklearn.preprocessing import StandardScaler\n",
    "# sc = StandardScaler()\n",
    "# X_train = sc.fit_transform(X_train)\n",
    "# X_test = sc.transform(X_test)\n",
    "\n",
    "# # fit the model using the training data\n",
    "# from sklearn.tree import DecisionTreeClassifier\n",
    "# classifier = DecisionTreeClassifier(criterion = 'entropy', random_state = 0)\n",
    "# classifier.fit(X_train, y_train)\n",
    "\n",
    "# # make prediction on the test data\n",
    "# y_pred = classifier.predict(X_test)\n",
    "\n",
    "# # check accuracy comparig y_test and y_pred\n",
    "# from sklearn.metrics import confusion_matrix, accuracy_score\n",
    "# cm = confusion_matrix(y_test, y_pred)\n",
    "\n",
    "# # output confusion matrix and total accuracy score\n",
    "# print(cm)\n",
    "# accuracy_score(y_test, y_pred)"
   ]
  },
  {
   "cell_type": "code",
   "execution_count": 108,
   "metadata": {},
   "outputs": [
    {
     "name": "stdout",
     "output_type": "stream",
     "text": [
      "(1097,)\n",
      "[[20 27 20]\n",
      " [24 25 26]\n",
      " [18 29 31]]\n"
     ]
    },
    {
     "name": "stderr",
     "output_type": "stream",
     "text": [
      "/Users/yjeonlee/opt/anaconda3/lib/python3.8/site-packages/sklearn/neural_network/_multilayer_perceptron.py:582: ConvergenceWarning: Stochastic Optimizer: Maximum iterations (200) reached and the optimization hasn't converged yet.\n",
      "  warnings.warn(\n"
     ]
    },
    {
     "data": {
      "text/plain": [
       "0.34545454545454546"
      ]
     },
     "execution_count": 108,
     "metadata": {},
     "output_type": "execute_result"
    }
   ],
   "source": [
    "# 5\n",
    "from sklearn.neural_network import MLPClassifier\n",
    "\n",
    "data = np.genfromtxt('/Users/yjeonlee/Desktop/[DS-GA-1001]Intro to Data Science/Project3/movieReplicationSet.csv',  delimiter = ',',  skip_header = 1)\n",
    "colMedian = np.nanmedian(data, axis=0)\n",
    "indices = np.where(np.isnan(data))\n",
    "data[indices] = np.take(colMedian, indices[1])\n",
    "#filledData = np.where(np.isnan(selected), ma.array(selected, mask=np.isnan(selected)).median(axis=0), selected)\n",
    "filledData = data\n",
    "\n",
    "ratings = data[:, :400]\n",
    "personal = data[:, 401:]\n",
    "\n",
    "aveRatings = []\n",
    "for i in range(0, len(ratings)):\n",
    "    if np.isnan(ratings[i]).all():\n",
    "        aveRatings.append(2)\n",
    "    else:\n",
    "        #print(type(ratings[i]))\n",
    "        aveRatings.append(np.nanmean(ratings[i]))\n",
    "\n",
    "aveRatings = np.array(aveRatings)\n",
    "print(aveRatings.shape)\n",
    "\n",
    "class1 = np.quantile(aveRatings, .33)\n",
    "class2 = np.quantile(aveRatings, .66)\n",
    "class3 = np.quantile(aveRatings, 1.0)\n",
    "#class4 = np.quantile(aveRatings, 1.0)\n",
    "\n",
    "# convert to class\n",
    "for i in range(0, len(aveRatings)):\n",
    "    if aveRatings[i] < class1:\n",
    "        aveRatings[i] = 1\n",
    "    elif aveRatings[i] < class2:\n",
    "        aveRatings[i] = 2\n",
    "#     elif aveRatings[i] < class3:\n",
    "#         aveRatings[i] = 3\n",
    "    else:\n",
    "        aveRatings[i] = 3\n",
    "\n",
    "X_train, X_test, y_train, y_test = train_test_split(personal, aveRatings, test_size=0.2) # 70% training and 30% test\n",
    "\n",
    "clf = MLPClassifier(solver='sgd', alpha=1e-5, hidden_layer_sizes=(20,), random_state=1)\n",
    "clf.fit(X_train, y_train)\n",
    "\n",
    "y_pred = clf.predict(X_test)\n",
    "\n",
    "cm = confusion_matrix(y_test, y_pred)\n",
    "print(cm)\n",
    "accuracy_score(y_test, y_pred)"
   ]
  },
  {
   "cell_type": "code",
   "execution_count": 124,
   "metadata": {},
   "outputs": [],
   "source": []
  },
  {
   "cell_type": "code",
   "execution_count": null,
   "metadata": {},
   "outputs": [],
   "source": []
  }
 ],
 "metadata": {
  "kernelspec": {
   "display_name": "Python 3",
   "language": "python",
   "name": "python3"
  },
  "language_info": {
   "codemirror_mode": {
    "name": "ipython",
    "version": 3
   },
   "file_extension": ".py",
   "mimetype": "text/x-python",
   "name": "python",
   "nbconvert_exporter": "python",
   "pygments_lexer": "ipython3",
   "version": "3.8.5"
  }
 },
 "nbformat": 4,
 "nbformat_minor": 4
}
